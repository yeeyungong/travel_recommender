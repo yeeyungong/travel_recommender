{
 "cells": [
  {
   "cell_type": "markdown",
   "metadata": {
    "id": "m0ooW9qNvRU5"
   },
   "source": []
  },
  {
   "cell_type": "code",
   "execution_count": 1,
   "metadata": {
    "id": "FLn0iYyxvRU7"
   },
   "outputs": [],
   "source": [
    "import numpy as np\n",
    "import pandas as pd\n",
    "import ast\n",
    "import seaborn as sns"
   ]
  },
  {
   "cell_type": "code",
   "execution_count": 2,
   "metadata": {
    "id": "9-G3LYtdvRU8"
   },
   "outputs": [],
   "source": [
    "travel = pd.read_csv(\"image_dataset.csv\") "
   ]
  },
  {
   "cell_type": "code",
   "execution_count": 3,
   "metadata": {
    "id": "J9aSZu7lvRU9"
   },
   "outputs": [
    {
     "data": {
      "text/html": [
       "<div>\n",
       "<style scoped>\n",
       "    .dataframe tbody tr th:only-of-type {\n",
       "        vertical-align: middle;\n",
       "    }\n",
       "\n",
       "    .dataframe tbody tr th {\n",
       "        vertical-align: top;\n",
       "    }\n",
       "\n",
       "    .dataframe thead th {\n",
       "        text-align: right;\n",
       "    }\n",
       "</style>\n",
       "<table border=\"1\" class=\"dataframe\">\n",
       "  <thead>\n",
       "    <tr style=\"text-align: right;\">\n",
       "      <th></th>\n",
       "      <th>image_id</th>\n",
       "      <th>image_title</th>\n",
       "      <th>hashtag</th>\n",
       "      <th>location</th>\n",
       "      <th>image_url</th>\n",
       "    </tr>\n",
       "  </thead>\n",
       "  <tbody>\n",
       "    <tr>\n",
       "      <th>0</th>\n",
       "      <td>1</td>\n",
       "      <td>Pulau Aur</td>\n",
       "      <td>beach vacations</td>\n",
       "      <td>Johor</td>\n",
       "      <td>images/aur.jpg</td>\n",
       "    </tr>\n",
       "    <tr>\n",
       "      <th>1</th>\n",
       "      <td>2</td>\n",
       "      <td>Kung Pao</td>\n",
       "      <td>foodie adventure</td>\n",
       "      <td>Johor</td>\n",
       "      <td>images/johorfood.jpg</td>\n",
       "    </tr>\n",
       "    <tr>\n",
       "      <th>2</th>\n",
       "      <td>3</td>\n",
       "      <td>Johor Bahru City</td>\n",
       "      <td>city exploration</td>\n",
       "      <td>Johor</td>\n",
       "      <td>images/johorcity.jpg</td>\n",
       "    </tr>\n",
       "    <tr>\n",
       "      <th>3</th>\n",
       "      <td>4</td>\n",
       "      <td>Pulau Sibu</td>\n",
       "      <td>beach vacations</td>\n",
       "      <td>Johor</td>\n",
       "      <td>images/sibu.jpg</td>\n",
       "    </tr>\n",
       "    <tr>\n",
       "      <th>4</th>\n",
       "      <td>5</td>\n",
       "      <td>Wat Koh Wanararm</td>\n",
       "      <td>cultural tours</td>\n",
       "      <td>Kedah</td>\n",
       "      <td>images/watkohwanararm.jpg</td>\n",
       "    </tr>\n",
       "  </tbody>\n",
       "</table>\n",
       "</div>"
      ],
      "text/plain": [
       "   image_id       image_title           hashtag location  \\\n",
       "0         1         Pulau Aur   beach vacations    Johor   \n",
       "1         2          Kung Pao  foodie adventure    Johor   \n",
       "2         3  Johor Bahru City  city exploration    Johor   \n",
       "3         4        Pulau Sibu   beach vacations    Johor   \n",
       "4         5  Wat Koh Wanararm    cultural tours    Kedah   \n",
       "\n",
       "                   image_url  \n",
       "0             images/aur.jpg  \n",
       "1       images/johorfood.jpg  \n",
       "2       images/johorcity.jpg  \n",
       "3            images/sibu.jpg  \n",
       "4  images/watkohwanararm.jpg  "
      ]
     },
     "execution_count": 3,
     "metadata": {},
     "output_type": "execute_result"
    }
   ],
   "source": [
    "travel.head()"
   ]
  },
  {
   "cell_type": "code",
   "execution_count": 4,
   "metadata": {
    "id": "D6gB11eZvRU9"
   },
   "outputs": [
    {
     "data": {
      "text/plain": [
       "(49, 5)"
      ]
     },
     "execution_count": 4,
     "metadata": {},
     "output_type": "execute_result"
    }
   ],
   "source": [
    "travel.columns\n",
    "travel.shape"
   ]
  },
  {
   "cell_type": "code",
   "execution_count": 5,
   "metadata": {
    "id": "xFZd1CHOvRU9"
   },
   "outputs": [
    {
     "data": {
      "text/plain": [
       "image_id       0\n",
       "image_title    0\n",
       "hashtag        0\n",
       "location       0\n",
       "image_url      0\n",
       "dtype: int64"
      ]
     },
     "execution_count": 5,
     "metadata": {},
     "output_type": "execute_result"
    }
   ],
   "source": [
    "travel.isnull().sum()"
   ]
  },
  {
   "cell_type": "code",
   "execution_count": 6,
   "metadata": {},
   "outputs": [
    {
     "data": {
      "text/plain": [
       "0           Pulau Aur\n",
       "1            Kung Pao\n",
       "2    Johor Bahru City\n",
       "3          Pulau Sibu\n",
       "4    Wat Koh Wanararm\n",
       "Name: image_title, dtype: object"
      ]
     },
     "execution_count": 6,
     "metadata": {},
     "output_type": "execute_result"
    }
   ],
   "source": [
    "travel['image_title'].head()"
   ]
  },
  {
   "cell_type": "code",
   "execution_count": 7,
   "metadata": {
    "id": "Dr7xRtSkvRU9"
   },
   "outputs": [
    {
     "name": "stdout",
     "output_type": "stream",
     "text": [
      "<class 'pandas.core.frame.DataFrame'>\n",
      "RangeIndex: 49 entries, 0 to 48\n",
      "Data columns (total 5 columns):\n",
      " #   Column       Non-Null Count  Dtype \n",
      "---  ------       --------------  ----- \n",
      " 0   image_id     49 non-null     int64 \n",
      " 1   image_title  49 non-null     object\n",
      " 2   hashtag      49 non-null     object\n",
      " 3   location     49 non-null     object\n",
      " 4   image_url    49 non-null     object\n",
      "dtypes: int64(1), object(4)\n",
      "memory usage: 2.0+ KB\n"
     ]
    }
   ],
   "source": [
    "travel.info()"
   ]
  },
  {
   "cell_type": "code",
   "execution_count": 8,
   "metadata": {
    "id": "hkIugu7hvRU-"
   },
   "outputs": [
    {
     "data": {
      "text/plain": [
       "0"
      ]
     },
     "execution_count": 8,
     "metadata": {},
     "output_type": "execute_result"
    }
   ],
   "source": [
    "travel.duplicated().sum()"
   ]
  },
  {
   "cell_type": "code",
   "execution_count": 9,
   "metadata": {},
   "outputs": [
    {
     "data": {
      "text/plain": [
       "(49, 11)"
      ]
     },
     "execution_count": 9,
     "metadata": {},
     "output_type": "execute_result"
    }
   ],
   "source": [
    "#Import TfIdfVectorizer from scikit-learn\n",
    "from sklearn.feature_extraction.text import TfidfVectorizer\n",
    "\n",
    "#Define a TF-IDF Vectorizer Object. Remove all english stop words such as 'the', 'a'\n",
    "tfidf = TfidfVectorizer(stop_words='english')\n",
    "\n",
    "#Replace NaN with an empty string\n",
    "travel['hashtag'] = travel['hashtag'].fillna('')\n",
    "\n",
    "#Construct the required TF-IDF matrix by fitting and transforming the data\n",
    "tfidf_matrix = tfidf.fit_transform(travel['hashtag'])\n",
    "\n",
    "#Output the shape of tfidf_matrix\n",
    "tfidf_matrix.shape\n"
   ]
  },
  {
   "cell_type": "code",
   "execution_count": 10,
   "metadata": {},
   "outputs": [],
   "source": [
    "# Import linear_kernel\n",
    "from sklearn.metrics.pairwise import linear_kernel\n",
    "\n",
    "# Compute the cosine similarity matrix\n",
    "cosine_sim = linear_kernel(tfidf_matrix, tfidf_matrix)"
   ]
  },
  {
   "cell_type": "code",
   "execution_count": 11,
   "metadata": {},
   "outputs": [
    {
     "data": {
      "text/plain": [
       "(49, 49)"
      ]
     },
     "execution_count": 11,
     "metadata": {},
     "output_type": "execute_result"
    }
   ],
   "source": [
    "cosine_sim.shape"
   ]
  },
  {
   "cell_type": "code",
   "execution_count": 12,
   "metadata": {},
   "outputs": [
    {
     "name": "stdout",
     "output_type": "stream",
     "text": [
      "[1. 0. 0. 1. 0. 1.]\n",
      "[0. 1. 0. 0. 0. 0.]\n",
      "[0. 0. 1. 0. 0. 0.]\n",
      "[1. 0. 0. 1. 0. 1.]\n",
      "[0. 0. 0. 0. 1. 0.]\n",
      "[1. 0. 0. 1. 0. 1.]\n"
     ]
    }
   ],
   "source": [
    "for i in range(6):\n",
    "    print(cosine_sim[i][:6])"
   ]
  },
  {
   "cell_type": "code",
   "execution_count": 13,
   "metadata": {},
   "outputs": [
    {
     "name": "stdout",
     "output_type": "stream",
     "text": [
      "Index: 0, Clean hashtag: beach vacations\n",
      "Index: 1, Clean hashtag: foodie adventure\n",
      "Index: 2, Clean hashtag: city exploration\n",
      "Index: 3, Clean hashtag: beach vacations\n",
      "Index: 4, Clean hashtag: cultural tours\n",
      "Index: 5, Clean hashtag: beach vacations\n",
      "Index: 6, Clean hashtag: foodie adventure\n",
      "Index: 7, Clean hashtag: cultural tours\n",
      "Index: 8, Clean hashtag: foodie adventure\n",
      "Index: 9, Clean hashtag: hiking\n",
      "Index: 10, Clean hashtag: foodie adventure\n",
      "Index: 11, Clean hashtag: city exploration\n",
      "Index: 12, Clean hashtag: city exploration\n",
      "Index: 13, Clean hashtag: foodie adventure\n",
      "Index: 14, Clean hashtag: cultural tours\n",
      "Index: 15, Clean hashtag: hiking\n",
      "Index: 16, Clean hashtag: cultural tours\n",
      "Index: 17, Clean hashtag: city exploration\n",
      "Index: 18, Clean hashtag: foodie adventure\n",
      "Index: 19, Clean hashtag: beach vacations\n",
      "Index: 20, Clean hashtag: hiking\n",
      "Index: 21, Clean hashtag: hiking\n",
      "Index: 22, Clean hashtag: hiking\n",
      "Index: 23, Clean hashtag: cultural tours\n",
      "Index: 24, Clean hashtag: cultural tours\n",
      "Index: 25, Clean hashtag: beach vacations\n",
      "Index: 26, Clean hashtag: funny\n",
      "Index: 27, Clean hashtag: cultural tours\n",
      "Index: 28, Clean hashtag: shopping\n",
      "Index: 29, Clean hashtag: hiking\n",
      "Index: 30, Clean hashtag: cultural tours\n",
      "Index: 31, Clean hashtag: hiking\n",
      "Index: 32, Clean hashtag: city exploration\n",
      "Index: 33, Clean hashtag: shopping\n",
      "Index: 34, Clean hashtag: cultural tours\n",
      "Index: 35, Clean hashtag: city exploration\n",
      "Index: 36, Clean hashtag: cultural tours\n",
      "Index: 37, Clean hashtag: shopping\n",
      "Index: 38, Clean hashtag: cultural tours\n",
      "Index: 39, Clean hashtag: cultural tours\n",
      "Index: 40, Clean hashtag: cultural tours\n",
      "Index: 41, Clean hashtag: beach vacations\n",
      "Index: 42, Clean hashtag: beach vacations\n",
      "Index: 43, Clean hashtag: hiking\n",
      "Index: 44, Clean hashtag: hiking\n",
      "Index: 45, Clean hashtag: hiking\n",
      "Index: 46, Clean hashtag: hiking\n",
      "Index: 47, Clean hashtag: hiking\n",
      "Index: 48, Clean hashtag: cultural tours\n"
     ]
    }
   ],
   "source": [
    "# Remove commas from hashtags\n",
    "travel['hashtag'] = travel['hashtag'].str.replace(',', '')\n",
    "\n",
    "# Example: Access hashtags without commas for all entries (using a loop)\n",
    "for index, row in travel.iterrows():\n",
    "    clean_hashtag = row['hashtag']\n",
    "    print(f\"Index: {index}, Clean hashtag: {clean_hashtag}\")\n",
    "\n",
    "# Alternative: Access all hashtags as a list (optional)\n",
    "all_clean_hashtags = travel['hashtag'].tolist()"
   ]
  },
  {
   "cell_type": "markdown",
   "metadata": {},
   "source": [
    "# hashtag similarity"
   ]
  },
  {
   "cell_type": "code",
   "execution_count": 14,
   "metadata": {
    "id": "qfSLL5tKvRU-",
    "scrolled": true
   },
   "outputs": [],
   "source": [
    "def get_recommendations(location, hashtags_str):\n",
    "\n",
    "  # Handle empty hashtags string\n",
    "  if not hashtags_str:\n",
    "      return []\n",
    "\n",
    "  # Split the provided hashtags string into a list\n",
    "  hashtags = hashtags_str.strip().split()\n",
    "\n",
    "  # Filter the dataframe based on location (if provided)\n",
    "  if location:\n",
    "    filtered_df = travel[travel['location'] == location].copy()  # Make a copy of the filtered DataFrame\n",
    "    if not filtered_df.empty:\n",
    "      # Calculate hashtag similarity scores for filtered entries\n",
    "      filtered_df['hashtag_sim_score'] = filtered_df['hashtag'].apply(\n",
    "          lambda x: len(set(x.split()) & set(hashtags))\n",
    "      )\n",
    "      # Sort entries based on hashtag similarity score\n",
    "      sorted_df = filtered_df.sort_values(by='hashtag_sim_score', ascending=False)\n",
    "      # Get top 10 recommendations\n",
    "      recommendations = sorted_df[['location', 'hashtag', 'image_url']].head(10).to_dict('records')\n",
    "      return recommendations\n",
    "  return []  # Return empty list if no recommendations found"
   ]
  },
  {
   "cell_type": "code",
   "execution_count": 15,
   "metadata": {
    "id": "5OyM50SkvRU-"
   },
   "outputs": [
    {
     "name": "stdout",
     "output_type": "stream",
     "text": [
      "[{'location': 'Kedah', 'hashtag': 'cultural tours', 'image_url': 'images/watkohwanararm.jpg'}, {'location': 'Kedah', 'hashtag': 'cultural tours', 'image_url': 'images/langkawi.jpg'}]\n"
     ]
    }
   ],
   "source": [
    "recommendations = get_recommendations('Kedah', 'beach')\n",
    "print(recommendations)"
   ]
  },
  {
   "cell_type": "markdown",
   "metadata": {},
   "source": [
    "# KNN K Nearest Neighbour"
   ]
  },
  {
   "cell_type": "code",
   "execution_count": 16,
   "metadata": {},
   "outputs": [
    {
     "name": "stdout",
     "output_type": "stream",
     "text": [
      "Enter your preferred location: perak\n",
      "Enter your preferred hashtag: hiking\n",
      "                   image_title         location hashtag  \\\n",
      "20               Kota Kinabalu            Sabah  hiking   \n",
      "21             Mount Santubong          Sarawak  hiking   \n",
      "31              Puteri Harbour            Johor  hiking   \n",
      "15                 Wang Gunung           Perlis  hiking   \n",
      "44  Taman Negara National Park         Selangor  hiking   \n",
      "22               Gunung Serapi          Sarawak  hiking   \n",
      "43                Taman Negara           Pahang  hiking   \n",
      "45            Cameron Highland           Pahang  hiking   \n",
      "29           Desaru fruit farm            Johor  hiking   \n",
      "9             Bukit Batu Putih  Negeri Sembilan  hiking   \n",
      "\n",
      "                     image_url  \n",
      "20         images/kinabalu.jpg  \n",
      "21        images/santubong.jpg  \n",
      "31    images/puteriharbour.jpg  \n",
      "15       images/wanggunung.jpg  \n",
      "44  images/tamannegarapark.jpg  \n",
      "22           images/serapi.jpg  \n",
      "43      images/tamannegara.jpg  \n",
      "45          images/cameron.jpg  \n",
      "29           images/desaru.jpg  \n",
      "9    images/bukitbatuputih.jpg  \n"
     ]
    }
   ],
   "source": [
    "import pandas as pd\n",
    "from sklearn.neighbors import NearestNeighbors\n",
    "from sklearn.preprocessing import OneHotEncoder\n",
    "\n",
    "csv_file_path = \"image_dataset.csv\"\n",
    "df = pd.read_csv(csv_file_path)\n",
    "encoder = OneHotEncoder(handle_unknown='ignore')\n",
    "\n",
    "encoded_features = encoder.fit_transform(df[['location', 'hashtag']])\n",
    "knn = NearestNeighbors(n_neighbors=10, algorithm='auto').fit(encoded_features)\n",
    "\n",
    "\n",
    "user_location = input(\"Enter your preferred location: \")\n",
    "user_hashtag = input(\"Enter your preferred hashtag: \")\n",
    "user_input_df = pd.DataFrame({\n",
    "    'location': [user_location],\n",
    "    'hashtag': [user_hashtag]\n",
    "})\n",
    "\n",
    "\n",
    "encoded_user_input = encoder.transform(user_input_df)\n",
    "\n",
    "distances, indices = knn.kneighbors(encoded_user_input)\n",
    "\n",
    "recoms = df.iloc[indices[0]]\n",
    "\n",
    "print(recoms[['image_title', 'location', 'hashtag', 'image_url']])"
   ]
  },
  {
   "cell_type": "code",
   "execution_count": 19,
   "metadata": {},
   "outputs": [],
   "source": [
    "import pickle"
   ]
  },
  {
   "cell_type": "code",
   "execution_count": 20,
   "metadata": {},
   "outputs": [],
   "source": [
    "pickle.dump(travel,open('travel.lis.pkl','wb'))"
   ]
  },
  {
   "cell_type": "code",
   "execution_count": null,
   "metadata": {},
   "outputs": [],
   "source": []
  }
 ],
 "metadata": {
  "colab": {
   "provenance": []
  },
  "kernelspec": {
   "display_name": "Python 3 (ipykernel)",
   "language": "python",
   "name": "python3"
  },
  "language_info": {
   "codemirror_mode": {
    "name": "ipython",
    "version": 3
   },
   "file_extension": ".py",
   "mimetype": "text/x-python",
   "name": "python",
   "nbconvert_exporter": "python",
   "pygments_lexer": "ipython3",
   "version": "3.11.5"
  }
 },
 "nbformat": 4,
 "nbformat_minor": 1
}
